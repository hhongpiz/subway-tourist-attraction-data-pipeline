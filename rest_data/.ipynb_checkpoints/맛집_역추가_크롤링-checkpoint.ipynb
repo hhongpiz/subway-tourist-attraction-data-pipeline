{
 "cells": [
  {
   "cell_type": "code",
   "execution_count": 1,
   "id": "04db0e24",
   "metadata": {},
   "outputs": [
    {
     "name": "stdout",
     "output_type": "stream",
     "text": [
      "Requirement already satisfied: geopy in c:\\users\\administrator\\anaconda3\\lib\\site-packages (2.2.0)\n",
      "Requirement already satisfied: geographiclib<2,>=1.49 in c:\\users\\administrator\\anaconda3\\lib\\site-packages (from geopy) (1.52)\n"
     ]
    }
   ],
   "source": [
    "from urllib.request import urlopen\n",
    "import bs4\n",
    "import pandas as pd\n",
    "#!pip install geopy\n",
    "from geopy.geocoders import Nominatim"
   ]
  },
  {
   "cell_type": "code",
   "execution_count": 3,
   "id": "7a9fa27c",
   "metadata": {},
   "outputs": [],
   "source": [
    "geo_local = Nominatim(user_agent='South Korea')"
   ]
  },
  {
   "cell_type": "code",
   "execution_count": 11,
   "id": "a6d789dc",
   "metadata": {},
   "outputs": [],
   "source": [
    "df = pd.read_csv('./강남구_맛집.csv', encoding='CP949')\n",
    "addr = df['주소']"
   ]
  },
  {
   "cell_type": "code",
   "execution_count": 14,
   "id": "1ac37a71",
   "metadata": {},
   "outputs": [],
   "source": [
    "def geocoding(address):\n",
    "    try:\n",
    "        geo = geo_local.geocode(address)\n",
    "        x_y = [geo.latitude, geo.longitude]\n",
    "        return x_y\n",
    "\n",
    "    except:\n",
    "        return [0,0]"
   ]
  },
  {
   "cell_type": "code",
   "execution_count": 23,
   "id": "45cdf729",
   "metadata": {},
   "outputs": [],
   "source": [
    "latitude = []\n",
    "longitude =[]\n",
    "\n",
    "for i in addr:\n",
    "    latitude.append(geocoding(i)[0])\n",
    "    longitude.append(geocoding(i)[1])"
   ]
  },
  {
   "cell_type": "code",
   "execution_count": 35,
   "id": "f94cdd93",
   "metadata": {},
   "outputs": [],
   "source": [
    "df['CATE'] = '맛집'"
   ]
  },
  {
   "cell_type": "code",
   "execution_count": 37,
   "id": "b89e1d93",
   "metadata": {},
   "outputs": [
    {
     "data": {
      "text/html": [
       "<div>\n",
       "<style scoped>\n",
       "    .dataframe tbody tr th:only-of-type {\n",
       "        vertical-align: middle;\n",
       "    }\n",
       "\n",
       "    .dataframe tbody tr th {\n",
       "        vertical-align: top;\n",
       "    }\n",
       "\n",
       "    .dataframe thead th {\n",
       "        text-align: right;\n",
       "    }\n",
       "</style>\n",
       "<table border=\"1\" class=\"dataframe\">\n",
       "  <thead>\n",
       "    <tr style=\"text-align: right;\">\n",
       "      <th></th>\n",
       "      <th>NAME</th>\n",
       "      <th>ADDRESS</th>\n",
       "      <th>CATE</th>\n",
       "      <th>SUBCATE</th>\n",
       "      <th>LAT</th>\n",
       "      <th>LON</th>\n",
       "    </tr>\n",
       "  </thead>\n",
       "  <tbody>\n",
       "    <tr>\n",
       "      <th>0</th>\n",
       "      <td>이디야커피랩</td>\n",
       "      <td>서울 강남구 논현로 636-0</td>\n",
       "      <td>맛집</td>\n",
       "      <td>카페/찻집</td>\n",
       "      <td>0.000000</td>\n",
       "      <td>0.000000</td>\n",
       "    </tr>\n",
       "    <tr>\n",
       "      <th>1</th>\n",
       "      <td>새벽집청담동점</td>\n",
       "      <td>서울 강남구 도산대로101길 6-0</td>\n",
       "      <td>맛집</td>\n",
       "      <td>한식</td>\n",
       "      <td>37.526779</td>\n",
       "      <td>127.052041</td>\n",
       "    </tr>\n",
       "    <tr>\n",
       "      <th>2</th>\n",
       "      <td>맥도날드청담DT점</td>\n",
       "      <td>서울 강남구 도산대로 407-0</td>\n",
       "      <td>맛집</td>\n",
       "      <td>간이음식</td>\n",
       "      <td>0.000000</td>\n",
       "      <td>0.000000</td>\n",
       "    </tr>\n",
       "    <tr>\n",
       "      <th>3</th>\n",
       "      <td>중앙해장</td>\n",
       "      <td>서울 강남구 영동대로86길 17-0</td>\n",
       "      <td>맛집</td>\n",
       "      <td>한식</td>\n",
       "      <td>37.508046</td>\n",
       "      <td>127.065290</td>\n",
       "    </tr>\n",
       "    <tr>\n",
       "      <th>4</th>\n",
       "      <td>카페노티드청담</td>\n",
       "      <td>서울 강남구 도산대로53길 15-0</td>\n",
       "      <td>맛집</td>\n",
       "      <td>카페/찻집</td>\n",
       "      <td>37.524309</td>\n",
       "      <td>127.038532</td>\n",
       "    </tr>\n",
       "    <tr>\n",
       "      <th>...</th>\n",
       "      <td>...</td>\n",
       "      <td>...</td>\n",
       "      <td>...</td>\n",
       "      <td>...</td>\n",
       "      <td>...</td>\n",
       "      <td>...</td>\n",
       "    </tr>\n",
       "    <tr>\n",
       "      <th>95</th>\n",
       "      <td>평양면옥강남점</td>\n",
       "      <td>서울 강남구 논현로150길 6-0</td>\n",
       "      <td>맛집</td>\n",
       "      <td>한식</td>\n",
       "      <td>37.519540</td>\n",
       "      <td>127.030376</td>\n",
       "    </tr>\n",
       "    <tr>\n",
       "      <th>96</th>\n",
       "      <td>창고43강남점</td>\n",
       "      <td>서울 강남구 강남대로 362-0</td>\n",
       "      <td>맛집</td>\n",
       "      <td>한식</td>\n",
       "      <td>0.000000</td>\n",
       "      <td>0.000000</td>\n",
       "    </tr>\n",
       "    <tr>\n",
       "      <th>97</th>\n",
       "      <td>필경재[한식]</td>\n",
       "      <td>서울 강남구 광평로 205-0</td>\n",
       "      <td>맛집</td>\n",
       "      <td>한식</td>\n",
       "      <td>37.484806</td>\n",
       "      <td>127.076170</td>\n",
       "    </tr>\n",
       "    <tr>\n",
       "      <th>98</th>\n",
       "      <td>커피빈학동역DT점</td>\n",
       "      <td>서울 강남구 학동로 211-0</td>\n",
       "      <td>맛집</td>\n",
       "      <td>카페/찻집</td>\n",
       "      <td>0.000000</td>\n",
       "      <td>0.000000</td>\n",
       "    </tr>\n",
       "    <tr>\n",
       "      <th>99</th>\n",
       "      <td>신동궁감자탕역삼본점</td>\n",
       "      <td>서울 강남구 테헤란로10길 21-0</td>\n",
       "      <td>맛집</td>\n",
       "      <td>한식</td>\n",
       "      <td>37.496460</td>\n",
       "      <td>127.033333</td>\n",
       "    </tr>\n",
       "  </tbody>\n",
       "</table>\n",
       "<p>100 rows × 6 columns</p>\n",
       "</div>"
      ],
      "text/plain": [
       "          NAME              ADDRESS CATE SUBCATE        LAT         LON\n",
       "0       이디야커피랩     서울 강남구 논현로 636-0   맛집   카페/찻집   0.000000    0.000000\n",
       "1      새벽집청담동점  서울 강남구 도산대로101길 6-0   맛집      한식  37.526779  127.052041\n",
       "2    맥도날드청담DT점    서울 강남구 도산대로 407-0   맛집    간이음식   0.000000    0.000000\n",
       "3         중앙해장  서울 강남구 영동대로86길 17-0   맛집      한식  37.508046  127.065290\n",
       "4      카페노티드청담  서울 강남구 도산대로53길 15-0   맛집   카페/찻집  37.524309  127.038532\n",
       "..         ...                  ...  ...     ...        ...         ...\n",
       "95     평양면옥강남점   서울 강남구 논현로150길 6-0   맛집      한식  37.519540  127.030376\n",
       "96     창고43강남점    서울 강남구 강남대로 362-0   맛집      한식   0.000000    0.000000\n",
       "97     필경재[한식]     서울 강남구 광평로 205-0   맛집      한식  37.484806  127.076170\n",
       "98   커피빈학동역DT점     서울 강남구 학동로 211-0   맛집   카페/찻집   0.000000    0.000000\n",
       "99  신동궁감자탕역삼본점  서울 강남구 테헤란로10길 21-0   맛집      한식  37.496460  127.033333\n",
       "\n",
       "[100 rows x 6 columns]"
      ]
     },
     "execution_count": 37,
     "metadata": {},
     "output_type": "execute_result"
    }
   ],
   "source": [
    "addr_df = pd.DataFrame({'NAME': df['업소명'],'ADDRESS':df['주소'],'CATE':df['CATE'],'SUBCATE':df['분류'],'LAT':latitude,'LON':longitude})\n",
    "addr_df"
   ]
  },
  {
   "cell_type": "code",
   "execution_count": 57,
   "id": "2cdf6d7e",
   "metadata": {
    "collapsed": true
   },
   "outputs": [
    {
     "data": {
      "text/plain": [
       "<bound method DataFrame.reset_index of                NAME               ADDRESS CATE SUBCATE        LAT         LON\n",
       "1           새벽집청담동점   서울 강남구 도산대로101길 6-0   맛집      한식  37.526779  127.052041\n",
       "3              중앙해장   서울 강남구 영동대로86길 17-0   맛집      한식  37.508046  127.065290\n",
       "4           카페노티드청담   서울 강남구 도산대로53길 15-0   맛집   카페/찻집  37.524309  127.038532\n",
       "5           영천영화청담점    서울 강남구 도산대로90길 3-0   맛집      한식  37.523331  127.048872\n",
       "6            진미평양냉면      서울 강남구 학동로 305-3   맛집      한식  37.519265  127.048785\n",
       "9             스케줄청담   서울 강남구 선릉로152길 37-0   맛집     외국식  37.524267  127.041259\n",
       "11          카페노티드삼성   서울 강남구 테헤란로103길 9-0   맛집   카페/찻집  37.509996  127.064265\n",
       "13             보메청담   서울 강남구 선릉로152길 40-0   맛집     외국식  37.524267  127.041259\n",
       "15     한일관압구정점 [한식]   서울 강남구 압구정로38길 14-0   맛집      한식  37.528226  127.032553\n",
       "16      김영모과자점도곡타워점    서울 강남구 언주로30길 10-0   맛집    간이음식  37.487966  127.052122\n",
       "17       울프강스테이크하우스   서울 강남구 선릉로152길 21-0   맛집     외국식  37.524267  127.041259\n",
       "20             페어링룸   서울 강남구 도산대로81길 14-0   맛집     외국식  37.526885  127.046754\n",
       "21         포브라더스도곡점    서울 강남구 논현로28길 40-0   맛집     외국식  37.483476  127.044363\n",
       "25             달마시안   서울 강남구 압구정로42길 42-0   맛집   카페/찻집  37.524082  127.034101\n",
       "27           해목[일식]   서울 강남구 선릉로145길 14-0   맛집     외국식  37.521456  127.038776\n",
       "28            고센클래식   서울 강남구 선릉로158길 18-0   맛집   카페/찻집  37.525595  127.040773\n",
       "29           팀호완삼성점   서울 강남구 봉은사로86길 30-0   맛집     외국식  37.512523  127.056863\n",
       "30            곰바위본점  서울 강남구 영동대로115길 10-0   맛집     외국식  37.514689  127.058897\n",
       "31           강남면옥본점   서울 강남구 논현로152길 34-0   맛집      한식  37.521304  127.030070\n",
       "35               오엔  서울 강남구 압구정로11길 37-30   맛집     외국식  37.525154  127.021560\n",
       "36         농민백암순대본점    서울 강남구 선릉로86길 40-4   맛집      한식  37.503540  127.050056\n",
       "37           무탄[중식]   서울 강남구 논현로176길 22-0   맛집     외국식  37.527264  127.029955\n",
       "38              피양옥   서울 강남구 삼성로133길 14-0   맛집      한식  37.519419  127.048575\n",
       "40              청담골   서울 강남구 선릉로148길 48-0   맛집     외국식  37.522215  127.043781\n",
       "41         뱃고동압구정본점   서울 강남구 언주로172길 54-0   맛집     외국식  37.527217  127.036853\n",
       "43      런던베이글뮤지엄도산점   서울 강남구 언주로168길 33-0   맛집    간이음식  37.526255  127.035099\n",
       "44         한성칼국수논현점   서울 강남구 언주로148길 14-0   맛집      한식  37.520696  127.036015\n",
       "48          하동관강남분점   서울 강남구 테헤란로78길 16-0   맛집      한식  37.505400  127.055590\n",
       "51               뜨락  서울 강남구 영동대로142길 13-3   맛집      한식  37.524297  127.055730\n",
       "54           이도곰탕본점    서울 강남구 논현로94길 29-5   맛집      한식  37.502848  127.038408\n",
       "56      오스테리아꼬또압구정점   서울 강남구 언주로165길 7-12   맛집     외국식  37.525858  127.032357\n",
       "57           테라스룸서울   서울 강남구 선릉로152길 37-0   맛집     외국식  37.524267  127.041259\n",
       "61             영동장어    서울 강남구 언주로148길 8-0   맛집     외국식  37.520696  127.036015\n",
       "62          대려도[중식]      서울 강남구 역삼로 118-0   맛집     외국식  37.495154  127.036949\n",
       "64          나리식당청담점   서울 강남구 선릉로152길 25-0   맛집      한식  37.524267  127.041259\n",
       "65          평양면옥도곡점    서울 강남구 논현로28길 28-0   맛집      한식  37.483476  127.044363\n",
       "66        누데이크하우스도산   서울 강남구 압구정로46길 50-0   맛집   카페/찻집  37.526057  127.035971\n",
       "67            리틀넥청담   서울 강남구 도산대로51길 17-0   맛집     외국식  37.525574  127.038119\n",
       "68         리사르커피청담점   서울 강남구 도산대로99길 60-0   맛집   카페/찻집  37.526717  127.049562\n",
       "69        스타벅스강남세곡점   서울 강남구 헌릉로569길 18-0   맛집   카페/찻집  37.467038  127.097825\n",
       "71          퀸즈파크청담점   서울 강남구 압구정로60길 22-0   맛집     외국식  37.525920  127.042604\n",
       "72             카멜커피   서울 강남구 도산대로45길 16-8   맛집   카페/찻집  37.523038  127.035541\n",
       "73          다운타우너청담   서울 강남구 도산대로53길 14-0   맛집    간이음식  37.524309  127.038532\n",
       "74         더라운드[중식]   서울 강남구 선릉로148길 37-0   맛집     외국식  37.522215  127.043781\n",
       "76               미엘  서울 강남구 도산대로67길 13-12   맛집   카페/찻집  37.525111  127.043591\n",
       "77             오아시스   서울 강남구 도산대로55길 20-0   맛집     외국식  37.524892  127.040529\n",
       "79         흑돈가삼성직영점   서울 강남구 봉은사로86길 14-0   맛집      한식  37.512523  127.056863\n",
       "80          롯데리아개포점       서울 강남구 선릉로 26-0   맛집    간이음식  37.523126  127.039163\n",
       "81            신정역삼점    서울 강남구 테헤란로8길 29-0   맛집     외국식  37.497355  127.031857\n",
       "82         강서면옥압구정점   서울 강남구 언주로164길 19-0   맛집      한식  37.525505  127.035282\n",
       "86       대가방본점 [중식]   서울 강남구 선릉로145길 13-0   맛집     외국식  37.521456  127.038776\n",
       "87        일일향압구정1호점   서울 강남구 논현로168길 30-0   맛집     외국식  37.524071  127.029527\n",
       "89  브루클린더버거조인트가로수길점   서울 강남구 도산대로15길 12-0   맛집    간이음식  37.519595  127.023825\n",
       "90       청국장과보리밥수서점     서울 강남구 광평로46길 5-5   맛집      한식  37.486184  127.099667\n",
       "91       랜디스도넛가로수길점   서울 강남구 도산대로15길 16-0   맛집    간이음식  37.519595  127.023825\n",
       "92        꽁티드툴레아도산점   서울 강남구 도산대로49길 39-0   맛집   카페/찻집  37.523971  127.037240\n",
       "94          정식당[한식]   서울 강남구 선릉로158길 11-0   맛집      한식  37.525595  127.040773\n",
       "95          평양면옥강남점    서울 강남구 논현로150길 6-0   맛집      한식  37.519540  127.030376\n",
       "97          필경재[한식]      서울 강남구 광평로 205-0   맛집      한식  37.484806  127.076170\n",
       "99       신동궁감자탕역삼본점   서울 강남구 테헤란로10길 21-0   맛집      한식  37.496460  127.033333>"
      ]
     },
     "execution_count": 57,
     "metadata": {},
     "output_type": "execute_result"
    }
   ],
   "source": [
    "fin_addr = addr_df[addr_df['LAT']!=0]\n",
    "fin_addr.to_csv('강남구_위경도포함.csv',encoding='cp949')"
   ]
  },
  {
   "cell_type": "code",
   "execution_count": 63,
   "id": "466661ab",
   "metadata": {},
   "outputs": [],
   "source": [
    "gu = ['강동구', '강북구', '강서구', '관악구', '광진구', '구로구', '금천구', '노원구', '도봉구', '동대문구', '동작구', '마포구', '서대문구', '서초구', '성동구', '성북구', '송파구', '양천구', '영등포구', '용산구', '은평구', '종로구', '중구', '중랑구']"
   ]
  },
  {
   "cell_type": "code",
   "execution_count": 65,
   "id": "78f0b032",
   "metadata": {},
   "outputs": [
    {
     "ename": "SyntaxError",
     "evalue": "cannot assign to operator (Temp/ipykernel_67356/1320329461.py, line 2)",
     "output_type": "error",
     "traceback": [
      "\u001b[1;36m  File \u001b[1;32m\"C:\\Users\\ADMINI~1\\AppData\\Local\\Temp/ipykernel_67356/1320329461.py\"\u001b[1;36m, line \u001b[1;32m2\u001b[0m\n\u001b[1;33m    df+g = pd.read_csv('./' + g +'_맛집.csv', encoding='CP949')\u001b[0m\n\u001b[1;37m    ^\u001b[0m\n\u001b[1;31mSyntaxError\u001b[0m\u001b[1;31m:\u001b[0m cannot assign to operator\n"
     ]
    }
   ],
   "source": [
    "for g in gu:\n",
    "    df+g = pd.read_csv('./' + g +'_맛집.csv', encoding='CP949')\n",
    "    df+g\n",
    "#     addr = df['주소']\n",
    "    \n",
    "#     # 위경도 추가\n",
    "#     latitude = []\n",
    "#     longitude =[]\n",
    "\n",
    "#     for i in addr:\n",
    "#         latitude.append(geocoding(i)[0])\n",
    "#         longitude.append(geocoding(i)[1])\n",
    "\n",
    "#     df['CATE'] = '맛집'\n",
    "\n",
    "#     addr_df = pd.DataFrame({'NAME': df['업소명'],'ADDRESS':df['주소'],'CATE':df['CATE'],'SUBCATE':df['분류'],'LAT':latitude,'LON':longitude})\n",
    "    \n",
    "#     # 위경도 추출된 df 저장\n",
    "#     fin_addr = addr_df[addr_df['LAT']!=0]\n",
    "#     fin_addr.to_csv(g + '_위경도포함.csv',encoding='cp949')"
   ]
  },
  {
   "cell_type": "code",
   "execution_count": null,
   "id": "81f4d12f",
   "metadata": {},
   "outputs": [],
   "source": [
    "for g in gu:\n",
    "    df = pd.read_csv('./' + g +'_맛집.csv', encoding='CP949')\n",
    "    \n",
    "    addr = df['주소']\n",
    "    latitude = []\n",
    "    longitude =[]\n",
    "\n",
    "    for i in addr:\n",
    "        latitude.append(geocoding(i)[0])\n",
    "        longitude.append(geocoding(i)[1])\n",
    "\n",
    "    df['CATE'] = '맛집'\n",
    "\n",
    "    addr_df = pd.DataFrame({'NAME': df['업소명'],'ADDRESS':df['주소'],'CATE':df['CATE'],'SUBCATE':df['분류'],'LAT':latitude,'LON':longitude})\n",
    "\n",
    "    fin_addr = addr_df[addr_df['LAT']==0]\n",
    "    print(g,len(fin_addr))"
   ]
  },
  {
   "cell_type": "code",
   "execution_count": 52,
   "id": "5e19d310",
   "metadata": {},
   "outputs": [
    {
     "data": {
      "text/plain": [
       "40"
      ]
     },
     "execution_count": 52,
     "metadata": {},
     "output_type": "execute_result"
    }
   ],
   "source": [
    "# len(addr_df[addr_df['LAT']==0])\n",
    "# addr_df[addr_df['LAT']==0]\n",
    "addr_df[addr_df['LON']==0]\n",
    "len(addr_df[addr_df['LON']==0])"
   ]
  },
  {
   "cell_type": "markdown",
   "id": "536be8a7",
   "metadata": {},
   "source": [
    "## 크롤링"
   ]
  },
  {
   "cell_type": "code",
   "execution_count": 52,
   "id": "2b9f15a3",
   "metadata": {},
   "outputs": [],
   "source": [
    "# 패키지 임포트\n",
    "import selenium\n",
    "from selenium import webdriver\n",
    "import pandas as pd\n",
    "import numpy as np\n",
    "from bs4 import BeautifulSoup\n",
    "from selenium.webdriver.common.by import By\n",
    "import time\n",
    "from tqdm import tqdm_notebook\n",
    "import urllib\n",
    "from urllib.request import urlopen\n",
    "import requests"
   ]
  },
  {
   "cell_type": "code",
   "execution_count": 182,
   "id": "3391e619",
   "metadata": {},
   "outputs": [],
   "source": [
    "gu = ['강남구','강동구', '강북구', '강서구', '관악구', '광진구', '구로구', '금천구', '노원구', '도봉구', '동대문구', '동작구', '마포구', '서대문구', '서초구', '성동구', '성북구','은평구' ,'송파구']\n"
   ]
  },
  {
   "cell_type": "code",
   "execution_count": 184,
   "id": "2158b64f",
   "metadata": {},
   "outputs": [
    {
     "name": "stderr",
     "output_type": "stream",
     "text": [
      "C:\\Users\\ADMINI~1\\AppData\\Local\\Temp/ipykernel_116772/3751299723.py:1: TqdmDeprecationWarning: This function will be removed in tqdm==5.0.0\n",
      "Please use `tqdm.notebook.tqdm` instead of `tqdm.tqdm_notebook`\n",
      "  for g in tqdm_notebook(gu):\n"
     ]
    },
    {
     "data": {
      "application/vnd.jupyter.widget-view+json": {
       "model_id": "0b741c1ca8494d86ae3d7648ae10b1f7",
       "version_major": 2,
       "version_minor": 0
      },
      "text/plain": [
       "  0%|          | 0/19 [00:00<?, ?it/s]"
      ]
     },
     "metadata": {},
     "output_type": "display_data"
    },
    {
     "name": "stderr",
     "output_type": "stream",
     "text": [
      "C:\\Users\\ADMINI~1\\AppData\\Local\\Temp/ipykernel_116772/3751299723.py:4: DeprecationWarning: executable_path has been deprecated, please pass in a Service object\n",
      "  driver = webdriver.Chrome('./driver/chromedriver')\n",
      "C:\\Users\\ADMINI~1\\AppData\\Local\\Temp/ipykernel_116772/3751299723.py:4: DeprecationWarning: executable_path has been deprecated, please pass in a Service object\n",
      "  driver = webdriver.Chrome('./driver/chromedriver')\n",
      "C:\\Users\\ADMINI~1\\AppData\\Local\\Temp/ipykernel_116772/3751299723.py:4: DeprecationWarning: executable_path has been deprecated, please pass in a Service object\n",
      "  driver = webdriver.Chrome('./driver/chromedriver')\n",
      "C:\\Users\\ADMINI~1\\AppData\\Local\\Temp/ipykernel_116772/3751299723.py:4: DeprecationWarning: executable_path has been deprecated, please pass in a Service object\n",
      "  driver = webdriver.Chrome('./driver/chromedriver')\n",
      "C:\\Users\\ADMINI~1\\AppData\\Local\\Temp/ipykernel_116772/3751299723.py:4: DeprecationWarning: executable_path has been deprecated, please pass in a Service object\n",
      "  driver = webdriver.Chrome('./driver/chromedriver')\n",
      "C:\\Users\\ADMINI~1\\AppData\\Local\\Temp/ipykernel_116772/3751299723.py:4: DeprecationWarning: executable_path has been deprecated, please pass in a Service object\n",
      "  driver = webdriver.Chrome('./driver/chromedriver')\n",
      "C:\\Users\\ADMINI~1\\AppData\\Local\\Temp/ipykernel_116772/3751299723.py:4: DeprecationWarning: executable_path has been deprecated, please pass in a Service object\n",
      "  driver = webdriver.Chrome('./driver/chromedriver')\n",
      "C:\\Users\\ADMINI~1\\AppData\\Local\\Temp/ipykernel_116772/3751299723.py:4: DeprecationWarning: executable_path has been deprecated, please pass in a Service object\n",
      "  driver = webdriver.Chrome('./driver/chromedriver')\n",
      "C:\\Users\\ADMINI~1\\AppData\\Local\\Temp/ipykernel_116772/3751299723.py:4: DeprecationWarning: executable_path has been deprecated, please pass in a Service object\n",
      "  driver = webdriver.Chrome('./driver/chromedriver')\n",
      "C:\\Users\\ADMINI~1\\AppData\\Local\\Temp/ipykernel_116772/3751299723.py:4: DeprecationWarning: executable_path has been deprecated, please pass in a Service object\n",
      "  driver = webdriver.Chrome('./driver/chromedriver')\n",
      "C:\\Users\\ADMINI~1\\AppData\\Local\\Temp/ipykernel_116772/3751299723.py:4: DeprecationWarning: executable_path has been deprecated, please pass in a Service object\n",
      "  driver = webdriver.Chrome('./driver/chromedriver')\n",
      "C:\\Users\\ADMINI~1\\AppData\\Local\\Temp/ipykernel_116772/3751299723.py:4: DeprecationWarning: executable_path has been deprecated, please pass in a Service object\n",
      "  driver = webdriver.Chrome('./driver/chromedriver')\n",
      "C:\\Users\\ADMINI~1\\AppData\\Local\\Temp/ipykernel_116772/3751299723.py:4: DeprecationWarning: executable_path has been deprecated, please pass in a Service object\n",
      "  driver = webdriver.Chrome('./driver/chromedriver')\n",
      "C:\\Users\\ADMINI~1\\AppData\\Local\\Temp/ipykernel_116772/3751299723.py:4: DeprecationWarning: executable_path has been deprecated, please pass in a Service object\n",
      "  driver = webdriver.Chrome('./driver/chromedriver')\n",
      "C:\\Users\\ADMINI~1\\AppData\\Local\\Temp/ipykernel_116772/3751299723.py:4: DeprecationWarning: executable_path has been deprecated, please pass in a Service object\n",
      "  driver = webdriver.Chrome('./driver/chromedriver')\n",
      "C:\\Users\\ADMINI~1\\AppData\\Local\\Temp/ipykernel_116772/3751299723.py:4: DeprecationWarning: executable_path has been deprecated, please pass in a Service object\n",
      "  driver = webdriver.Chrome('./driver/chromedriver')\n",
      "C:\\Users\\ADMINI~1\\AppData\\Local\\Temp/ipykernel_116772/3751299723.py:4: DeprecationWarning: executable_path has been deprecated, please pass in a Service object\n",
      "  driver = webdriver.Chrome('./driver/chromedriver')\n",
      "C:\\Users\\ADMINI~1\\AppData\\Local\\Temp/ipykernel_116772/3751299723.py:4: DeprecationWarning: executable_path has been deprecated, please pass in a Service object\n",
      "  driver = webdriver.Chrome('./driver/chromedriver')\n"
     ]
    },
    {
     "ename": "KeyError",
     "evalue": "'업소명'",
     "output_type": "error",
     "traceback": [
      "\u001b[1;31m---------------------------------------------------------------------------\u001b[0m",
      "\u001b[1;31mKeyError\u001b[0m                                  Traceback (most recent call last)",
      "\u001b[1;32m~\\anaconda3\\lib\\site-packages\\pandas\\core\\indexes\\base.py\u001b[0m in \u001b[0;36mget_loc\u001b[1;34m(self, key, method, tolerance)\u001b[0m\n\u001b[0;32m   3620\u001b[0m             \u001b[1;32mtry\u001b[0m\u001b[1;33m:\u001b[0m\u001b[1;33m\u001b[0m\u001b[1;33m\u001b[0m\u001b[0m\n\u001b[1;32m-> 3621\u001b[1;33m                 \u001b[1;32mreturn\u001b[0m \u001b[0mself\u001b[0m\u001b[1;33m.\u001b[0m\u001b[0m_engine\u001b[0m\u001b[1;33m.\u001b[0m\u001b[0mget_loc\u001b[0m\u001b[1;33m(\u001b[0m\u001b[0mcasted_key\u001b[0m\u001b[1;33m)\u001b[0m\u001b[1;33m\u001b[0m\u001b[1;33m\u001b[0m\u001b[0m\n\u001b[0m\u001b[0;32m   3622\u001b[0m             \u001b[1;32mexcept\u001b[0m \u001b[0mKeyError\u001b[0m \u001b[1;32mas\u001b[0m \u001b[0merr\u001b[0m\u001b[1;33m:\u001b[0m\u001b[1;33m\u001b[0m\u001b[1;33m\u001b[0m\u001b[0m\n",
      "\u001b[1;32m~\\anaconda3\\lib\\site-packages\\pandas\\_libs\\index.pyx\u001b[0m in \u001b[0;36mpandas._libs.index.IndexEngine.get_loc\u001b[1;34m()\u001b[0m\n",
      "\u001b[1;32m~\\anaconda3\\lib\\site-packages\\pandas\\_libs\\index.pyx\u001b[0m in \u001b[0;36mpandas._libs.index.IndexEngine.get_loc\u001b[1;34m()\u001b[0m\n",
      "\u001b[1;32mpandas\\_libs\\hashtable_class_helper.pxi\u001b[0m in \u001b[0;36mpandas._libs.hashtable.PyObjectHashTable.get_item\u001b[1;34m()\u001b[0m\n",
      "\u001b[1;32mpandas\\_libs\\hashtable_class_helper.pxi\u001b[0m in \u001b[0;36mpandas._libs.hashtable.PyObjectHashTable.get_item\u001b[1;34m()\u001b[0m\n",
      "\u001b[1;31mKeyError\u001b[0m: '업소명'",
      "\nThe above exception was the direct cause of the following exception:\n",
      "\u001b[1;31mKeyError\u001b[0m                                  Traceback (most recent call last)",
      "\u001b[1;32mC:\\Users\\ADMINI~1\\AppData\\Local\\Temp/ipykernel_116772/3751299723.py\u001b[0m in \u001b[0;36m<module>\u001b[1;34m\u001b[0m\n\u001b[0;32m      6\u001b[0m \u001b[1;33m\u001b[0m\u001b[0m\n\u001b[0;32m      7\u001b[0m     \u001b[0murl_list\u001b[0m \u001b[1;33m=\u001b[0m \u001b[1;33m[\u001b[0m\u001b[1;33m]\u001b[0m\u001b[1;33m\u001b[0m\u001b[1;33m\u001b[0m\u001b[0m\n\u001b[1;32m----> 8\u001b[1;33m     \u001b[1;32mfor\u001b[0m \u001b[0mres\u001b[0m \u001b[1;32min\u001b[0m \u001b[0mdf\u001b[0m\u001b[1;33m[\u001b[0m\u001b[1;34m'업소명'\u001b[0m\u001b[1;33m]\u001b[0m \u001b[1;33m:\u001b[0m\u001b[1;33m\u001b[0m\u001b[1;33m\u001b[0m\u001b[0m\n\u001b[0m\u001b[0;32m      9\u001b[0m         \u001b[1;32mtry\u001b[0m \u001b[1;33m:\u001b[0m\u001b[1;33m\u001b[0m\u001b[1;33m\u001b[0m\u001b[0m\n\u001b[0;32m     10\u001b[0m             \u001b[0msearch_xpath\u001b[0m \u001b[1;33m=\u001b[0m \u001b[1;34m'/html/body/app/layout/div[3]/div[2]/shrinkable-layout/div/app-base/search-input-box/div/div[1]/div/input'\u001b[0m\u001b[1;33m\u001b[0m\u001b[1;33m\u001b[0m\u001b[0m\n",
      "\u001b[1;32m~\\anaconda3\\lib\\site-packages\\pandas\\core\\frame.py\u001b[0m in \u001b[0;36m__getitem__\u001b[1;34m(self, key)\u001b[0m\n\u001b[0;32m   3503\u001b[0m             \u001b[1;32mif\u001b[0m \u001b[0mself\u001b[0m\u001b[1;33m.\u001b[0m\u001b[0mcolumns\u001b[0m\u001b[1;33m.\u001b[0m\u001b[0mnlevels\u001b[0m \u001b[1;33m>\u001b[0m \u001b[1;36m1\u001b[0m\u001b[1;33m:\u001b[0m\u001b[1;33m\u001b[0m\u001b[1;33m\u001b[0m\u001b[0m\n\u001b[0;32m   3504\u001b[0m                 \u001b[1;32mreturn\u001b[0m \u001b[0mself\u001b[0m\u001b[1;33m.\u001b[0m\u001b[0m_getitem_multilevel\u001b[0m\u001b[1;33m(\u001b[0m\u001b[0mkey\u001b[0m\u001b[1;33m)\u001b[0m\u001b[1;33m\u001b[0m\u001b[1;33m\u001b[0m\u001b[0m\n\u001b[1;32m-> 3505\u001b[1;33m             \u001b[0mindexer\u001b[0m \u001b[1;33m=\u001b[0m \u001b[0mself\u001b[0m\u001b[1;33m.\u001b[0m\u001b[0mcolumns\u001b[0m\u001b[1;33m.\u001b[0m\u001b[0mget_loc\u001b[0m\u001b[1;33m(\u001b[0m\u001b[0mkey\u001b[0m\u001b[1;33m)\u001b[0m\u001b[1;33m\u001b[0m\u001b[1;33m\u001b[0m\u001b[0m\n\u001b[0m\u001b[0;32m   3506\u001b[0m             \u001b[1;32mif\u001b[0m \u001b[0mis_integer\u001b[0m\u001b[1;33m(\u001b[0m\u001b[0mindexer\u001b[0m\u001b[1;33m)\u001b[0m\u001b[1;33m:\u001b[0m\u001b[1;33m\u001b[0m\u001b[1;33m\u001b[0m\u001b[0m\n\u001b[0;32m   3507\u001b[0m                 \u001b[0mindexer\u001b[0m \u001b[1;33m=\u001b[0m \u001b[1;33m[\u001b[0m\u001b[0mindexer\u001b[0m\u001b[1;33m]\u001b[0m\u001b[1;33m\u001b[0m\u001b[1;33m\u001b[0m\u001b[0m\n",
      "\u001b[1;32m~\\anaconda3\\lib\\site-packages\\pandas\\core\\indexes\\base.py\u001b[0m in \u001b[0;36mget_loc\u001b[1;34m(self, key, method, tolerance)\u001b[0m\n\u001b[0;32m   3621\u001b[0m                 \u001b[1;32mreturn\u001b[0m \u001b[0mself\u001b[0m\u001b[1;33m.\u001b[0m\u001b[0m_engine\u001b[0m\u001b[1;33m.\u001b[0m\u001b[0mget_loc\u001b[0m\u001b[1;33m(\u001b[0m\u001b[0mcasted_key\u001b[0m\u001b[1;33m)\u001b[0m\u001b[1;33m\u001b[0m\u001b[1;33m\u001b[0m\u001b[0m\n\u001b[0;32m   3622\u001b[0m             \u001b[1;32mexcept\u001b[0m \u001b[0mKeyError\u001b[0m \u001b[1;32mas\u001b[0m \u001b[0merr\u001b[0m\u001b[1;33m:\u001b[0m\u001b[1;33m\u001b[0m\u001b[1;33m\u001b[0m\u001b[0m\n\u001b[1;32m-> 3623\u001b[1;33m                 \u001b[1;32mraise\u001b[0m \u001b[0mKeyError\u001b[0m\u001b[1;33m(\u001b[0m\u001b[0mkey\u001b[0m\u001b[1;33m)\u001b[0m \u001b[1;32mfrom\u001b[0m \u001b[0merr\u001b[0m\u001b[1;33m\u001b[0m\u001b[1;33m\u001b[0m\u001b[0m\n\u001b[0m\u001b[0;32m   3624\u001b[0m             \u001b[1;32mexcept\u001b[0m \u001b[0mTypeError\u001b[0m\u001b[1;33m:\u001b[0m\u001b[1;33m\u001b[0m\u001b[1;33m\u001b[0m\u001b[0m\n\u001b[0;32m   3625\u001b[0m                 \u001b[1;31m# If we have a listlike key, _check_indexing_error will raise\u001b[0m\u001b[1;33m\u001b[0m\u001b[1;33m\u001b[0m\u001b[0m\n",
      "\u001b[1;31mKeyError\u001b[0m: '업소명'"
     ]
    }
   ],
   "source": [
    "for g in tqdm_notebook(gu):\n",
    "    df = pd.read_csv('./' + g +'_맛집.csv', encoding='CP949')\n",
    "    base_url='https://map.naver.com/v5/?c=14127676.3957465,4523397.9832608,15,0,0,0,dh'\n",
    "    driver = webdriver.Chrome('./driver/chromedriver')\n",
    "    driver.get(base_url)\n",
    "\n",
    "    url_list = []\n",
    "    for res in df['업소명'] :\n",
    "        try :\n",
    "            search_xpath = '/html/body/app/layout/div[3]/div[2]/shrinkable-layout/div/app-base/search-input-box/div/div[1]/div/input'\n",
    "            element = driver.find_element(By.XPATH, search_xpath)\n",
    "            time.sleep(0.5)\n",
    "            element.clear()\n",
    "            element.send_keys(res)\n",
    "            element.send_keys(\"\\n\")\n",
    "            time.sleep(3)\n",
    "\n",
    "            url = driver.current_url\n",
    "            if(url.split('/').__contains__('place')) :\n",
    "                u = url.split('/')[-1].split('?')[0]\n",
    "                url_list.append(u)\n",
    "            else :\n",
    "                driver.switch_to.frame('searchIframe')\n",
    "                time.sleep(1)\n",
    "\n",
    "                target_xpath = '/html/body/div[3]/div/div/div[1]/ul/li[1]/div[2]/a[1]/div/div/span[1]'\n",
    "                config = driver.find_elements(By.XPATH, target_xpath)\n",
    "                if len(config) == 0 :\n",
    "                    target_xpath = '/html/body/div[3]/div/div/div[1]/ul/li[1]/div[1]/a[1]/div/div/span[1]'\n",
    "                else :\n",
    "                    target_xpath = '/html/body/div[3]/div/div/div[1]/ul/li[1]/div[2]/a[1]/div/div/span[1]'\n",
    "\n",
    "                element = driver.find_element(By.XPATH, target_xpath)\n",
    "                element.click()\n",
    "                time.sleep(2)\n",
    "\n",
    "                url = driver.current_url\n",
    "                u = url.split('/')[-1].split('?')[0]\n",
    "                url_list.append(u)\n",
    "                time.sleep(1)\n",
    "\n",
    "                driver.switch_to.default_content()\n",
    "                time.sleep(1)\n",
    "\n",
    "        except :\n",
    "            url_list.append('-')\n",
    "            driver.switch_to.default_content()\n",
    "            time.sleep(1)\n",
    "\n",
    "    df['업소id'] = url_list\n",
    "\n",
    "    st_list = []\n",
    "    for i in range(len(df)):\n",
    "        try:\n",
    "            urlnum = df['업소id'][i]\n",
    "            url = f'https://pcmap.place.naver.com/restaurant/{urlnum}/home'\n",
    "            driver.get(url)\n",
    "            html = driver.page_source\n",
    "            bs_obj = BeautifulSoup(html,'html.parser')\n",
    "            a = bs_obj.find('div',{'class':'jyfLw'})\n",
    "            st = a.find('strong').text\n",
    "            st_list.append(st)\n",
    "        except :\n",
    "            st_list.append('-')\n",
    "            driver.switch_to.default_content()\n",
    "            time.sleep(1)\n",
    "\n",
    "    df = df.drop(['업소id'],axis=1)\n",
    "    df['STATION_NAME'] = st_list\n",
    "\n",
    "    df.to_csv('./' + g +'_맛집_역명.csv', encoding='CP949')"
   ]
  },
  {
   "cell_type": "code",
   "execution_count": null,
   "id": "3675ad17",
   "metadata": {},
   "outputs": [],
   "source": []
  },
  {
   "cell_type": "code",
   "execution_count": 185,
   "id": "bd7a7697",
   "metadata": {},
   "outputs": [],
   "source": [
    "df = pd.read_csv('./은평구_맛집.csv', encoding='CP949')"
   ]
  },
  {
   "cell_type": "code",
   "execution_count": 186,
   "id": "5e9f1fe3",
   "metadata": {},
   "outputs": [
    {
     "data": {
      "text/html": [
       "<div>\n",
       "<style scoped>\n",
       "    .dataframe tbody tr th:only-of-type {\n",
       "        vertical-align: middle;\n",
       "    }\n",
       "\n",
       "    .dataframe tbody tr th {\n",
       "        vertical-align: top;\n",
       "    }\n",
       "\n",
       "    .dataframe thead th {\n",
       "        text-align: right;\n",
       "    }\n",
       "</style>\n",
       "<table border=\"1\" class=\"dataframe\">\n",
       "  <thead>\n",
       "    <tr style=\"text-align: right;\">\n",
       "      <th></th>\n",
       "      <th>NAME</th>\n",
       "      <th>ADDRESS</th>\n",
       "      <th>CATE</th>\n",
       "      <th>SUBCATE</th>\n",
       "    </tr>\n",
       "  </thead>\n",
       "  <tbody>\n",
       "    <tr>\n",
       "      <th>0</th>\n",
       "      <td>1인1잔</td>\n",
       "      <td>서울 은평구 연서로 534-0</td>\n",
       "      <td>맛집</td>\n",
       "      <td>카페/찻집</td>\n",
       "    </tr>\n",
       "    <tr>\n",
       "      <th>1</th>\n",
       "      <td>송추가마골은평점</td>\n",
       "      <td>서울 은평구 북한산로 276-0</td>\n",
       "      <td>맛집</td>\n",
       "      <td>한식</td>\n",
       "    </tr>\n",
       "    <tr>\n",
       "      <th>2</th>\n",
       "      <td>송추가마골은평2호점</td>\n",
       "      <td>서울 은평구 북한산로 228-1</td>\n",
       "      <td>맛집</td>\n",
       "      <td>한식</td>\n",
       "    </tr>\n",
       "    <tr>\n",
       "      <th>3</th>\n",
       "      <td>아웃백스테이크하우스구파발점</td>\n",
       "      <td>서울 은평구 통일로 1080-0</td>\n",
       "      <td>맛집</td>\n",
       "      <td>외국식</td>\n",
       "    </tr>\n",
       "    <tr>\n",
       "      <th>4</th>\n",
       "      <td>산들애건강밥상</td>\n",
       "      <td>서울 은평구 대서문길 43-16</td>\n",
       "      <td>맛집</td>\n",
       "      <td>한식</td>\n",
       "    </tr>\n",
       "    <tr>\n",
       "      <th>...</th>\n",
       "      <td>...</td>\n",
       "      <td>...</td>\n",
       "      <td>...</td>\n",
       "      <td>...</td>\n",
       "    </tr>\n",
       "    <tr>\n",
       "      <th>75</th>\n",
       "      <td>진곰숯불갈비</td>\n",
       "      <td>서울 은평구 증산로 345-0</td>\n",
       "      <td>맛집</td>\n",
       "      <td>한식</td>\n",
       "    </tr>\n",
       "    <tr>\n",
       "      <th>76</th>\n",
       "      <td>스페이스헬레나</td>\n",
       "      <td>서울 은평구 진관길 4-0</td>\n",
       "      <td>맛집</td>\n",
       "      <td>카페/찻집</td>\n",
       "    </tr>\n",
       "    <tr>\n",
       "      <th>77</th>\n",
       "      <td>동굴과화로구이</td>\n",
       "      <td>서울 은평구 은평로 185-0</td>\n",
       "      <td>맛집</td>\n",
       "      <td>한식</td>\n",
       "    </tr>\n",
       "    <tr>\n",
       "      <th>78</th>\n",
       "      <td>야래향</td>\n",
       "      <td>서울 은평구 통일로 1010-0</td>\n",
       "      <td>맛집</td>\n",
       "      <td>외국식</td>\n",
       "    </tr>\n",
       "    <tr>\n",
       "      <th>79</th>\n",
       "      <td>서오릉피자구산역점</td>\n",
       "      <td>서울 은평구 서오릉로 124-0</td>\n",
       "      <td>맛집</td>\n",
       "      <td>간이음식</td>\n",
       "    </tr>\n",
       "  </tbody>\n",
       "</table>\n",
       "<p>80 rows × 4 columns</p>\n",
       "</div>"
      ],
      "text/plain": [
       "              NAME            ADDRESS CATE SUBCATE\n",
       "0             1인1잔   서울 은평구 연서로 534-0   맛집   카페/찻집\n",
       "1         송추가마골은평점  서울 은평구 북한산로 276-0   맛집      한식\n",
       "2       송추가마골은평2호점  서울 은평구 북한산로 228-1   맛집      한식\n",
       "3   아웃백스테이크하우스구파발점  서울 은평구 통일로 1080-0   맛집     외국식\n",
       "4          산들애건강밥상  서울 은평구 대서문길 43-16   맛집      한식\n",
       "..             ...                ...  ...     ...\n",
       "75          진곰숯불갈비   서울 은평구 증산로 345-0   맛집      한식\n",
       "76         스페이스헬레나     서울 은평구 진관길 4-0   맛집   카페/찻집\n",
       "77         동굴과화로구이   서울 은평구 은평로 185-0   맛집      한식\n",
       "78             야래향  서울 은평구 통일로 1010-0   맛집     외국식\n",
       "79       서오릉피자구산역점  서울 은평구 서오릉로 124-0   맛집    간이음식\n",
       "\n",
       "[80 rows x 4 columns]"
      ]
     },
     "execution_count": 186,
     "metadata": {},
     "output_type": "execute_result"
    }
   ],
   "source": [
    "df"
   ]
  },
  {
   "cell_type": "code",
   "execution_count": 187,
   "id": "cf02348a",
   "metadata": {},
   "outputs": [
    {
     "name": "stderr",
     "output_type": "stream",
     "text": [
      "C:\\Users\\ADMINI~1\\AppData\\Local\\Temp/ipykernel_116772/1601535763.py:2: DeprecationWarning: executable_path has been deprecated, please pass in a Service object\n",
      "  driver = webdriver.Chrome('./driver/chromedriver')\n"
     ]
    }
   ],
   "source": [
    "base_url='https://map.naver.com/v5/?c=14127676.3957465,4523397.9832608,15,0,0,0,dh'\n",
    "driver = webdriver.Chrome('./driver/chromedriver')\n",
    "driver.get(base_url)"
   ]
  },
  {
   "cell_type": "code",
   "execution_count": 188,
   "id": "41aa7211",
   "metadata": {
    "scrolled": true
   },
   "outputs": [
    {
     "name": "stderr",
     "output_type": "stream",
     "text": [
      "C:\\Users\\ADMINI~1\\AppData\\Local\\Temp/ipykernel_116772/3209941687.py:2: TqdmDeprecationWarning: This function will be removed in tqdm==5.0.0\n",
      "Please use `tqdm.notebook.tqdm` instead of `tqdm.tqdm_notebook`\n",
      "  for res in tqdm_notebook(df['NAME']) :\n"
     ]
    },
    {
     "data": {
      "application/vnd.jupyter.widget-view+json": {
       "model_id": "0b6599890d1e4a0bbf40b73557ec24eb",
       "version_major": 2,
       "version_minor": 0
      },
      "text/plain": [
       "  0%|          | 0/80 [00:00<?, ?it/s]"
      ]
     },
     "metadata": {},
     "output_type": "display_data"
    },
    {
     "name": "stdout",
     "output_type": "stream",
     "text": [
      "error 역촌왕돈까스역촌본점\n",
      "error 가이오국수본점\n",
      "error 응암오거리먹자골목길\n",
      "error 신선설농탕연신내역점\n"
     ]
    }
   ],
   "source": [
    "url_list = []\n",
    "for res in tqdm_notebook(df['NAME']) :\n",
    "    try :\n",
    "        search_xpath = '/html/body/app/layout/div[3]/div[2]/shrinkable-layout/div/app-base/search-input-box/div/div[1]/div/input'\n",
    "        element = driver.find_element(By.XPATH, search_xpath)\n",
    "        time.sleep(0.5)\n",
    "        element.clear()\n",
    "        element.send_keys(res)\n",
    "        element.send_keys(\"\\n\")\n",
    "        time.sleep(3)\n",
    "        \n",
    "        url = driver.current_url\n",
    "        if(url.split('/').__contains__('place')) :\n",
    "            u = url.split('/')[-1].split('?')[0]\n",
    "            url_list.append(u)\n",
    "        else :\n",
    "            driver.switch_to.frame('searchIframe')\n",
    "            time.sleep(1)\n",
    "            \n",
    "            target_xpath = '/html/body/div[3]/div/div/div[1]/ul/li[1]/div[2]/a[1]/div/div/span[1]'\n",
    "            config = driver.find_elements(By.XPATH, target_xpath)\n",
    "            if len(config) == 0 :\n",
    "                target_xpath = '/html/body/div[3]/div/div/div[1]/ul/li[1]/div[1]/a[1]/div/div/span[1]'\n",
    "            else :\n",
    "                target_xpath = '/html/body/div[3]/div/div/div[1]/ul/li[1]/div[2]/a[1]/div/div/span[1]'\n",
    "                \n",
    "            element = driver.find_element(By.XPATH, target_xpath)\n",
    "            element.click()\n",
    "            time.sleep(2)\n",
    "\n",
    "            url = driver.current_url\n",
    "            u = url.split('/')[-1].split('?')[0]\n",
    "            url_list.append(u)\n",
    "            time.sleep(1)\n",
    "\n",
    "            driver.switch_to.default_content()\n",
    "            time.sleep(1)\n",
    "                \n",
    "    except :\n",
    "        print('error',res)\n",
    "        url_list.append('-')\n",
    "        driver.switch_to.default_content()\n",
    "        time.sleep(1)"
   ]
  },
  {
   "cell_type": "code",
   "execution_count": 189,
   "id": "4bbdaa61",
   "metadata": {},
   "outputs": [],
   "source": [
    "df['업소id'] = url_list"
   ]
  },
  {
   "cell_type": "code",
   "execution_count": 190,
   "id": "5eed8c95",
   "metadata": {},
   "outputs": [
    {
     "name": "stderr",
     "output_type": "stream",
     "text": [
      "C:\\Users\\ADMINI~1\\AppData\\Local\\Temp/ipykernel_116772/337708819.py:2: TqdmDeprecationWarning: This function will be removed in tqdm==5.0.0\n",
      "Please use `tqdm.notebook.tqdm` instead of `tqdm.tqdm_notebook`\n",
      "  for i in tqdm_notebook(range(len(df))):\n"
     ]
    },
    {
     "data": {
      "application/vnd.jupyter.widget-view+json": {
       "model_id": "492290ef9140420fa2e69522ec43f2fd",
       "version_major": 2,
       "version_minor": 0
      },
      "text/plain": [
       "  0%|          | 0/80 [00:00<?, ?it/s]"
      ]
     },
     "metadata": {},
     "output_type": "display_data"
    },
    {
     "name": "stdout",
     "output_type": "stream",
     "text": [
      "error 0\n",
      "error 1\n",
      "error 2\n",
      "error 4\n",
      "error 5\n",
      "error 12\n",
      "error 14\n",
      "error 15\n",
      "error 17\n",
      "error 24\n",
      "error 25\n",
      "error 26\n",
      "error 27\n",
      "error 30\n",
      "error 31\n",
      "error 32\n",
      "error 34\n",
      "error 41\n",
      "error 44\n",
      "error 48\n",
      "error 53\n",
      "error 54\n",
      "error 55\n",
      "error 56\n",
      "error 58\n",
      "error 66\n",
      "error 74\n",
      "error 76\n"
     ]
    }
   ],
   "source": [
    "st_list = []\n",
    "for i in tqdm_notebook(range(len(df))):\n",
    "    try:\n",
    "        urlnum = df['업소id'][i]\n",
    "        url = f'https://pcmap.place.naver.com/restaurant/{urlnum}/home'\n",
    "        driver.get(url)\n",
    "        html = driver.page_source\n",
    "        bs_obj = BeautifulSoup(html,'html.parser')\n",
    "        a = bs_obj.find('div',{'class':'jyfLw'})\n",
    "        st = a.find('strong').text\n",
    "        st_list.append(st)\n",
    "    except :\n",
    "        print('error',i)\n",
    "        st_list.append('-')\n",
    "        driver.switch_to.default_content()\n",
    "        time.sleep(1)"
   ]
  },
  {
   "cell_type": "code",
   "execution_count": 176,
   "id": "52318d9d",
   "metadata": {
    "collapsed": true
   },
   "outputs": [
    {
     "data": {
      "text/plain": [
       "['-',\n",
       " '-',\n",
       " '-',\n",
       " '구파발역',\n",
       " '-',\n",
       " '-',\n",
       " '김포공항역',\n",
       " '연신내역',\n",
       " '새절역',\n",
       " '구산역',\n",
       " '역촌역',\n",
       " '역촌역',\n",
       " '-',\n",
       " '불광역',\n",
       " '-',\n",
       " '-',\n",
       " '역촌역',\n",
       " '-',\n",
       " '증산역',\n",
       " '역촌역',\n",
       " '연신내역',\n",
       " '-',\n",
       " '녹번역',\n",
       " '-',\n",
       " '-',\n",
       " '-',\n",
       " '-',\n",
       " '-',\n",
       " '역촌역',\n",
       " '응암역',\n",
       " '-',\n",
       " '-',\n",
       " '-',\n",
       " '디지털미디어시티역',\n",
       " '-',\n",
       " '구파발역',\n",
       " '역촌역',\n",
       " '연신내역',\n",
       " '불광역',\n",
       " '새절역',\n",
       " '역촌역',\n",
       " '-',\n",
       " '디지털미디어시티역',\n",
       " '불광역',\n",
       " '-',\n",
       " '백석역',\n",
       " '구산역',\n",
       " '역촌역',\n",
       " '-',\n",
       " '새절역',\n",
       " '새절역',\n",
       " '혜화역',\n",
       " '독바위역',\n",
       " '-',\n",
       " '-',\n",
       " '-',\n",
       " '-',\n",
       " '녹번역',\n",
       " '-',\n",
       " '역촌역',\n",
       " '새절역',\n",
       " '구파발역',\n",
       " '구파발역',\n",
       " '구파발역',\n",
       " '연신내역',\n",
       " '남위례역',\n",
       " '-',\n",
       " '새절역',\n",
       " '신사역',\n",
       " '역촌역',\n",
       " '응암역',\n",
       " '구파발역',\n",
       " '새절역',\n",
       " '역촌역',\n",
       " '-',\n",
       " '증산역',\n",
       " '-',\n",
       " '녹번역',\n",
       " '회현역',\n",
       " '구산역']"
      ]
     },
     "execution_count": 176,
     "metadata": {},
     "output_type": "execute_result"
    }
   ],
   "source": [
    "st_list"
   ]
  },
  {
   "cell_type": "code",
   "execution_count": 191,
   "id": "10893dc0",
   "metadata": {},
   "outputs": [],
   "source": [
    "df = df.drop(['업소id'],axis=1)\n",
    "df['STATION_NAME'] = st_list"
   ]
  },
  {
   "cell_type": "code",
   "execution_count": 192,
   "id": "8a640d8f",
   "metadata": {},
   "outputs": [],
   "source": [
    "df.to_csv('./은평구_맛집_역명.csv',encoding='cp949')"
   ]
  }
 ],
 "metadata": {
  "kernelspec": {
   "display_name": "Python 3 (ipykernel)",
   "language": "python",
   "name": "python3"
  },
  "language_info": {
   "codemirror_mode": {
    "name": "ipython",
    "version": 3
   },
   "file_extension": ".py",
   "mimetype": "text/x-python",
   "name": "python",
   "nbconvert_exporter": "python",
   "pygments_lexer": "ipython3",
   "version": "3.9.7"
  }
 },
 "nbformat": 4,
 "nbformat_minor": 5
}
