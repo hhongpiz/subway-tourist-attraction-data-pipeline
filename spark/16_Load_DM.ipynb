{
 "cells": [
  {
   "cell_type": "code",
   "execution_count": 2,
   "metadata": {},
   "outputs": [],
   "source": [
    "from IPython.core.interactiveshell import InteractiveShell\n",
    "InteractiveShell.ast_node_interactivity = \"all\""
   ]
  },
  {
   "cell_type": "code",
   "execution_count": null,
   "metadata": {},
   "outputs": [],
   "source": [
    "# 데이터마트용 계정 생성\n",
    "# sqlDeveloper에서 진행\n",
    "# create user dm_admin IDENTIFIED BY \"123qwe!@#QWE\";\n",
    "# grant dwrole to dm_admin;\n",
    "# grant unlimited tablespace to dm_admin;\n"
   ]
  },
  {
   "cell_type": "code",
   "execution_count": 1,
   "metadata": {},
   "outputs": [],
   "source": [
    "from datetime import date, datetime\n",
    "from pyspark.sql.types import *\n",
    "from pyspark.sql.functions import *\n",
    "import datetime as dt\n",
    "\n"
   ]
  },
  {
   "cell_type": "code",
   "execution_count": 3,
   "metadata": {},
   "outputs": [],
   "source": [
    "import platform\n",
    "\n",
    "from matplotlib import font_manager, rc\n",
    "plt.rcParams['axes.unicode_minus'] = False\n",
    "\n",
    "if platform.system() == 'Darwin':  # 맥OS \n",
    "    rc('font', family='AppleGothic')\n",
    "elif platform.system() == 'Windows':  # 윈도우\n",
    "    path = \"c:/Windows/Fonts/malgun.ttf\"\n",
    "    font_name = font_manager.FontProperties(fname=path).get_name()\n",
    "    rc('font', family=font_name)\n",
    "else:\n",
    "    rc('font', family='NanumGothic')"
   ]
  },
  {
   "cell_type": "code",
   "execution_count": 2,
   "metadata": {},
   "outputs": [],
   "source": [
    "def cal_std_day(befor_day):   \n",
    "    x = dt.datetime.now() - dt.timedelta(befor_day)\n",
    "    year = x.year\n",
    "    month = x.month if x.month >= 10 else '0'+ str(x.month)\n",
    "    day = x.day if x.day >= 10 else '0'+ str(x.day)  \n",
    "    return str(year)+ '-' +str(month)+ '-' +str(day)"
   ]
  },
  {
   "cell_type": "markdown",
   "metadata": {},
   "source": [
    "### JDBC"
   ]
  },
  {
   "cell_type": "code",
   "execution_count": 3,
   "metadata": {},
   "outputs": [],
   "source": [
    "JDBC_DW = {\n",
    "    'url':'jdbc:oracle:thin:@decorona_high?TNS_ADMIN=/home/big/study/db/Wallet_DECORONA'\n",
    "    ,'props':{\n",
    "        'user':'dw_de'\n",
    "       ,'password':'123qwe!@#QWE'\n",
    "    }   \n",
    "}\n",
    "\n",
    "JDBC_DM = {\n",
    "    'url':'jdbc:oracle:thin:@decorona_high?TNS_ADMIN=/home/big/study/db/Wallet_DECORONA'\n",
    "    ,'props':{\n",
    "        'user':'dm_de'\n",
    "       ,'password':'123qwe!@#QWE'\n",
    "    }   \n",
    "}"
   ]
  },
  {
   "cell_type": "markdown",
   "metadata": {},
   "source": [
    "## Load DataMart"
   ]
  },
  {
   "cell_type": "markdown",
   "metadata": {},
   "source": [
    "### 1. 지역별 단위면적(km)당 인구수와 코로나 확진자 수 데이터 저장"
   ]
  },
  {
   "cell_type": "code",
   "execution_count": 5,
   "metadata": {},
   "outputs": [
    {
     "name": "stderr",
     "output_type": "stream",
     "text": [
      "                                                                                \r"
     ]
    },
    {
     "name": "stdout",
     "output_type": "stream",
     "text": [
      "+----+----+----------+------------+\n",
      "| LOC|AREA|POPULATION|FACILITY_CNT|\n",
      "+----+----+----------+------------+\n",
      "|서울| 605|   9736027|        5224|\n",
      "|부산| 770|   3396109|        1462|\n",
      "|대구| 883|   2412642|        1015|\n",
      "+----+----+----------+------------+\n",
      "only showing top 3 rows\n",
      "\n"
     ]
    },
    {
     "name": "stderr",
     "output_type": "stream",
     "text": [
      "\r",
      "[Stage 2:>                                                          (0 + 1) / 1]\r"
     ]
    },
    {
     "name": "stdout",
     "output_type": "stream",
     "text": [
      "+------+----+---------+-------+-----------+--------+----------+\n",
      "|cp_idx| LOC|DEATH_CNT|DEF_CNT|LOC_OCC_CNT|QUR_RATE|   STD_DAY|\n",
      "+------+----+---------+-------+-----------+--------+----------+\n",
      "|     1|세종|       43| 191189|        206|   51409|2022-09-19|\n",
      "|     2|제주|      217| 331125|        218|   48928|2022-09-19|\n",
      "|     3|부산|     2423|1456840|        633|   43483|2022-09-19|\n",
      "+------+----+---------+-------+-----------+--------+----------+\n",
      "only showing top 3 rows\n",
      "\n"
     ]
    },
    {
     "name": "stderr",
     "output_type": "stream",
     "text": [
      "\r",
      "                                                                                \r"
     ]
    }
   ],
   "source": [
    "popu = spark.read.jdbc(url=JDBC_DW['url'], table='loc', properties=JDBC_DW['props'])\n",
    "patients = spark.read.jdbc(url=JDBC_DW['url'], table='corona_patients', properties=JDBC_DW['props'])\n",
    "popu.show(3)\n",
    "patients.show(3)"
   ]
  },
  {
   "cell_type": "code",
   "execution_count": 6,
   "metadata": {},
   "outputs": [
    {
     "name": "stderr",
     "output_type": "stream",
     "text": [
      "[Stage 7:>                                                          (0 + 1) / 1]\r"
     ]
    },
    {
     "name": "stdout",
     "output_type": "stream",
     "text": [
      "+----+------------+--------+----------+\n",
      "| loc|POPU_DENSITY|qur_rate|   std_day|\n",
      "+----+------------+--------+----------+\n",
      "|강원|          93|   46475|2022-09-19|\n",
      "|경기|        1366|   48319|2022-09-19|\n",
      "|경남|         321|   44509|2022-09-19|\n",
      "+----+------------+--------+----------+\n",
      "only showing top 3 rows\n",
      "\n"
     ]
    },
    {
     "name": "stderr",
     "output_type": "stream",
     "text": [
      "\r",
      "                                                                                \r"
     ]
    }
   ],
   "source": [
    "pop_patients = popu.join(patients, on='loc') \\\n",
    "                    .select('loc'\n",
    "                           ,ceil(col('population')/col('area')).alias('POPU_DENSITY')\n",
    "                            ,'qur_rate'\n",
    "                            ,'std_day') \\\n",
    "                    .orderBy(col('std_day'))\n",
    "\n",
    "pop_patients.show(3)"
   ]
  },
  {
   "cell_type": "code",
   "execution_count": 10,
   "metadata": {},
   "outputs": [
    {
     "name": "stderr",
     "output_type": "stream",
     "text": [
      "                                                                                \r"
     ]
    }
   ],
   "source": [
    "pop_patients.write.jdbc(url=JDBC_DM['url'],  table='CO_POPU_DENSITY', mode='append', properties=JDBC_DM['props'])"
   ]
  },
  {
   "cell_type": "markdown",
   "metadata": {},
   "source": [
    "### 2.  백신접종 완료자와 코로나 확진자 수 데이터 저장"
   ]
  },
  {
   "cell_type": "code",
   "execution_count": 19,
   "metadata": {},
   "outputs": [],
   "source": [
    "vaccine = spark.read.jdbc(url=JDBC_DW['url'], table='CORONA_VACCINE', properties=JDBC_DW['props'])"
   ]
  },
  {
   "cell_type": "code",
   "execution_count": 12,
   "metadata": {},
   "outputs": [
    {
     "name": "stderr",
     "output_type": "stream",
     "text": [
      "\r",
      "[Stage 20:>                                                         (0 + 1) / 1]\r"
     ]
    },
    {
     "name": "stdout",
     "output_type": "stream",
     "text": [
      "+------+----+----+-------+----------+\n",
      "|CV_IDX| LOC|V_TH|  V_CNT|   STD_DAY|\n",
      "+------+----+----+-------+----------+\n",
      "|     1|서울|  v1|8340594|2022-09-19|\n",
      "|     2|서울|  v2|8261803|2022-09-19|\n",
      "|     3|서울|  v3|6059101|2022-09-19|\n",
      "+------+----+----+-------+----------+\n",
      "only showing top 3 rows\n",
      "\n"
     ]
    },
    {
     "name": "stderr",
     "output_type": "stream",
     "text": [
      "\r",
      "                                                                                \r"
     ]
    }
   ],
   "source": [
    "vaccine.show(3)"
   ]
  },
  {
   "cell_type": "code",
   "execution_count": 24,
   "metadata": {},
   "outputs": [
    {
     "name": "stderr",
     "output_type": "stream",
     "text": [
      "                                                                                \r"
     ]
    },
    {
     "name": "stdout",
     "output_type": "stream",
     "text": [
      "+----+----------+---------+---------+---------+---------+--------+\n",
      "| LOC|   STD_DAY|V1TH_RATE|V2TH_RATE|V3TH_RATE|V4TH_RATE|QUR_RATE|\n",
      "+----+----------+---------+---------+---------+---------+--------+\n",
      "|강원|2022-09-19|       87|       87|       69|       18|   46475|\n",
      "|경기|2022-09-19|       85|       85|       63|       13|   48319|\n",
      "|경남|2022-09-19|       86|       85|       64|       15|   44509|\n",
      "+----+----------+---------+---------+---------+---------+--------+\n",
      "only showing top 3 rows\n",
      "\n"
     ]
    }
   ],
   "source": [
    "pd_vaccine = vaccine.to_pandas_on_spark()\n",
    "pd_vaccine = pd_vaccine.pivot_table(index=['LOC','STD_DAY'], columns='V_TH', values='V_CNT')\n",
    "pd_vaccine = pd_vaccine.reset_index()\n",
    "tmp = pd_vaccine.to_spark()\n",
    "\n",
    "vac_rate = tmp.join(popu, on='LOC') \\\n",
    "        .join(patients, on='LOC') \\\n",
    "        .select('LOC', patients.STD_DAY\n",
    "                ,ceil(col('v1')/col('population') * 100).alias('V1TH_RATE')\n",
    "                ,ceil(col('v2')/col('population') * 100).alias('V2TH_RATE')\n",
    "                ,ceil(col('v3')/col('population') * 100).alias('V3TH_RATE')\n",
    "                ,ceil(col('v4')/col('population') * 100).alias('V4TH_RATE')\n",
    "                ,'QUR_RATE'\n",
    "               ) \\\n",
    "vac_rate.show(3)\n"
   ]
  },
  {
   "cell_type": "code",
   "execution_count": 25,
   "metadata": {},
   "outputs": [
    {
     "name": "stderr",
     "output_type": "stream",
     "text": [
      "                                                                                \r"
     ]
    }
   ],
   "source": [
    "vac_rate.write.jdbc(url=JDBC_DM['url'],  table='CO_VACCINE', mode='append', properties=JDBC_DM['props'])"
   ]
  },
  {
   "cell_type": "markdown",
   "metadata": {},
   "source": [
    "### 3. 다중이용시설과 코로나 확진자 수의 상관관계"
   ]
  },
  {
   "cell_type": "code",
   "execution_count": 12,
   "metadata": {
    "scrolled": true
   },
   "outputs": [],
   "source": []
  },
  {
   "cell_type": "code",
   "execution_count": 13,
   "metadata": {},
   "outputs": [],
   "source": []
  },
  {
   "cell_type": "code",
   "execution_count": 14,
   "metadata": {},
   "outputs": [
    {
     "name": "stderr",
     "output_type": "stream",
     "text": [
      "                                                                                \r"
     ]
    }
   ],
   "source": []
  },
  {
   "cell_type": "markdown",
   "metadata": {},
   "source": [
    "### 4. 요일별 코로나 확진자 수를 구해보자"
   ]
  },
  {
   "cell_type": "code",
   "execution_count": null,
   "metadata": {},
   "outputs": [],
   "source": []
  },
  {
   "cell_type": "code",
   "execution_count": 16,
   "metadata": {},
   "outputs": [
    {
     "name": "stderr",
     "output_type": "stream",
     "text": [
      "                                                                                \r"
     ]
    }
   ],
   "source": []
  }
 ],
 "metadata": {
  "kernelspec": {
   "display_name": "Python 3 (ipykernel)",
   "language": "python",
   "name": "python3"
  },
  "language_info": {
   "codemirror_mode": {
    "name": "ipython",
    "version": 3
   },
   "file_extension": ".py",
   "mimetype": "text/x-python",
   "name": "python",
   "nbconvert_exporter": "python",
   "pygments_lexer": "ipython3",
   "version": "3.8.10"
  },
  "vscode": {
   "interpreter": {
    "hash": "377b85fccf01b1fe6a959144825e6c17ac3718c2615da119d71a1f46ada91329"
   }
  }
 },
 "nbformat": 4,
 "nbformat_minor": 5
}
