{
 "cells": [
  {
   "cell_type": "code",
   "execution_count": 1,
   "id": "3035d548",
   "metadata": {},
   "outputs": [],
   "source": [
    "import requests\n",
    "from urllib.parse import urlparse\n",
    "import pandas as pd\n",
    "import geopandas\n",
    "from tqdm import tqdm_notebook"
   ]
  },
  {
   "cell_type": "code",
   "execution_count": 163,
   "id": "72e80c5e",
   "metadata": {},
   "outputs": [],
   "source": [
    "def addr_to_xy(addrs):\n",
    "    global val\n",
    "    url = 'http://dapi.kakao.com/v2/local/search/address.json?&query=' + addrs\n",
    "    result = requests.get(urlparse(url).geturl(),\n",
    "                         headers={'Authorization':'KakaoAK 300b45659a38232ba5c1b7d947dc337a'})\n",
    "    json_obj = result.json()\n",
    "    for document in json_obj['documents']:\n",
    "        val = [document['y'],document['x']]\n",
    "    return val"
   ]
  },
  {
   "cell_type": "code",
   "execution_count": 166,
   "id": "b472e667",
   "metadata": {},
   "outputs": [
    {
     "name": "stderr",
     "output_type": "stream",
     "text": [
      "C:\\Users\\ADMINI~1\\AppData\\Local\\Temp/ipykernel_4724/1786808925.py:5: TqdmDeprecationWarning: This function will be removed in tqdm==5.0.0\n",
      "Please use `tqdm.notebook.tqdm` instead of `tqdm.tqdm_notebook`\n",
      "  for g in tqdm_notebook(gu):\n"
     ]
    },
    {
     "data": {
      "application/vnd.jupyter.widget-view+json": {
       "model_id": "6cac2f3a723743389e0ab0f787255181",
       "version_major": 2,
       "version_minor": 0
      },
      "text/plain": [
       "  0%|          | 0/1 [00:00<?, ?it/s]"
      ]
     },
     "metadata": {},
     "output_type": "display_data"
    }
   ],
   "source": [
    "gu = ['중구'] #, '마포구', '서대문구', '서초구', '성동구', '성북구', '송파구', '양천구', '영등포구', '용산구', '은평구', '종로구', '중구', '중랑구']\n",
    "lat_list = []\n",
    "lon_list = []\n",
    "\n",
    "for g in tqdm_notebook(gu):\n",
    "    df = pd.read_csv('./' + g +'_맛집_역명.csv', encoding='CP949')\n",
    "    for i in range(len(df)):\n",
    "        addrs = df['ADDRESS'][i]\n",
    "        lat_list.append(addr_to_xy(addrs)[0])\n",
    "        lon_list.append(addr_to_xy(addrs)[1])\n",
    "    df['LAT'] = lat_list\n",
    "    df['LON'] = lon_list\n",
    "    df.to_csv('./' + g +'_맛집_좌표.csv', encoding='CP949')"
   ]
  },
  {
   "cell_type": "code",
   "execution_count": 206,
   "id": "b270e715",
   "metadata": {},
   "outputs": [
    {
     "data": {
      "text/html": [
       "<div>\n",
       "<style scoped>\n",
       "    .dataframe tbody tr th:only-of-type {\n",
       "        vertical-align: middle;\n",
       "    }\n",
       "\n",
       "    .dataframe tbody tr th {\n",
       "        vertical-align: top;\n",
       "    }\n",
       "\n",
       "    .dataframe thead th {\n",
       "        text-align: right;\n",
       "    }\n",
       "</style>\n",
       "<table border=\"1\" class=\"dataframe\">\n",
       "  <thead>\n",
       "    <tr style=\"text-align: right;\">\n",
       "      <th></th>\n",
       "      <th>Unnamed: 0</th>\n",
       "      <th>NAME</th>\n",
       "      <th>ADDRESS</th>\n",
       "      <th>CATE</th>\n",
       "      <th>SUBCATE</th>\n",
       "      <th>STATION_NAME</th>\n",
       "      <th>LAT</th>\n",
       "      <th>LON</th>\n",
       "    </tr>\n",
       "  </thead>\n",
       "  <tbody>\n",
       "    <tr>\n",
       "      <th>0</th>\n",
       "      <td>0</td>\n",
       "      <td>삼청동수제비본점</td>\n",
       "      <td>서울 종로구 삼청로 101-1</td>\n",
       "      <td>맛집</td>\n",
       "      <td>한식</td>\n",
       "      <td>안국역</td>\n",
       "      <td>37.584610</td>\n",
       "      <td>126.981925</td>\n",
       "    </tr>\n",
       "    <tr>\n",
       "      <th>1</th>\n",
       "      <td>1</td>\n",
       "      <td>토속촌삼계탕</td>\n",
       "      <td>서울 종로구 자하문로5길 5-0</td>\n",
       "      <td>맛집</td>\n",
       "      <td>한식</td>\n",
       "      <td>경복궁역</td>\n",
       "      <td>37.577603</td>\n",
       "      <td>126.971632</td>\n",
       "    </tr>\n",
       "    <tr>\n",
       "      <th>2</th>\n",
       "      <td>2</td>\n",
       "      <td>더숲초소책방</td>\n",
       "      <td>서울 종로구 인왕산로 172-0</td>\n",
       "      <td>맛집</td>\n",
       "      <td>카페/찻집</td>\n",
       "      <td>무악재역</td>\n",
       "      <td>37.585954</td>\n",
       "      <td>126.964278</td>\n",
       "    </tr>\n",
       "    <tr>\n",
       "      <th>3</th>\n",
       "      <td>3</td>\n",
       "      <td>런던베이글뮤지엄</td>\n",
       "      <td>서울 종로구 북촌로4길 20-0</td>\n",
       "      <td>맛집</td>\n",
       "      <td>간이음식</td>\n",
       "      <td>안국역</td>\n",
       "      <td>37.579170</td>\n",
       "      <td>126.986203</td>\n",
       "    </tr>\n",
       "    <tr>\n",
       "      <th>4</th>\n",
       "      <td>4</td>\n",
       "      <td>대성집</td>\n",
       "      <td>서울 종로구 사직로 5-0</td>\n",
       "      <td>맛집</td>\n",
       "      <td>한식</td>\n",
       "      <td>독립문역</td>\n",
       "      <td>37.572733</td>\n",
       "      <td>126.960931</td>\n",
       "    </tr>\n",
       "    <tr>\n",
       "      <th>...</th>\n",
       "      <td>...</td>\n",
       "      <td>...</td>\n",
       "      <td>...</td>\n",
       "      <td>...</td>\n",
       "      <td>...</td>\n",
       "      <td>...</td>\n",
       "      <td>...</td>\n",
       "      <td>...</td>\n",
       "    </tr>\n",
       "    <tr>\n",
       "      <th>63</th>\n",
       "      <td>63</td>\n",
       "      <td>폴바셋광화문점</td>\n",
       "      <td>서울 종로구 종로1길 50-0</td>\n",
       "      <td>맛집</td>\n",
       "      <td>카페/찻집</td>\n",
       "      <td>광화문역</td>\n",
       "      <td>37.574724</td>\n",
       "      <td>126.979022</td>\n",
       "    </tr>\n",
       "    <tr>\n",
       "      <th>64</th>\n",
       "      <td>64</td>\n",
       "      <td>순대실록대학로본점</td>\n",
       "      <td>서울 종로구 동숭길 127-0</td>\n",
       "      <td>맛집</td>\n",
       "      <td>한식</td>\n",
       "      <td>혜화역</td>\n",
       "      <td>37.583295</td>\n",
       "      <td>127.003057</td>\n",
       "    </tr>\n",
       "    <tr>\n",
       "      <th>65</th>\n",
       "      <td>65</td>\n",
       "      <td>대련집</td>\n",
       "      <td>서울 종로구 종로16길 37-0</td>\n",
       "      <td>맛집</td>\n",
       "      <td>한식</td>\n",
       "      <td>을지로3가역</td>\n",
       "      <td>37.568432</td>\n",
       "      <td>126.989091</td>\n",
       "    </tr>\n",
       "    <tr>\n",
       "      <th>66</th>\n",
       "      <td>66</td>\n",
       "      <td>파리크라상광화문점</td>\n",
       "      <td>서울 종로구 종로 1-0</td>\n",
       "      <td>맛집</td>\n",
       "      <td>간이음식</td>\n",
       "      <td>광화문역</td>\n",
       "      <td>37.573054</td>\n",
       "      <td>127.016590</td>\n",
       "    </tr>\n",
       "    <tr>\n",
       "      <th>67</th>\n",
       "      <td>67</td>\n",
       "      <td>싸리집</td>\n",
       "      <td>서울 종로구 진흥로 463-0</td>\n",
       "      <td>맛집</td>\n",
       "      <td>한식</td>\n",
       "      <td>보라매역</td>\n",
       "      <td>37.606855</td>\n",
       "      <td>126.960065</td>\n",
       "    </tr>\n",
       "  </tbody>\n",
       "</table>\n",
       "<p>68 rows × 8 columns</p>\n",
       "</div>"
      ],
      "text/plain": [
       "    Unnamed: 0       NAME            ADDRESS CATE SUBCATE STATION_NAME  \\\n",
       "0            0   삼청동수제비본점   서울 종로구 삼청로 101-1   맛집      한식          안국역   \n",
       "1            1     토속촌삼계탕  서울 종로구 자하문로5길 5-0   맛집      한식         경복궁역   \n",
       "2            2     더숲초소책방  서울 종로구 인왕산로 172-0   맛집   카페/찻집         무악재역   \n",
       "3            3   런던베이글뮤지엄  서울 종로구 북촌로4길 20-0   맛집    간이음식          안국역   \n",
       "4            4        대성집     서울 종로구 사직로 5-0   맛집      한식         독립문역   \n",
       "..         ...        ...                ...  ...     ...          ...   \n",
       "63          63    폴바셋광화문점   서울 종로구 종로1길 50-0   맛집   카페/찻집         광화문역   \n",
       "64          64  순대실록대학로본점   서울 종로구 동숭길 127-0   맛집      한식          혜화역   \n",
       "65          65        대련집  서울 종로구 종로16길 37-0   맛집      한식       을지로3가역   \n",
       "66          66  파리크라상광화문점      서울 종로구 종로 1-0   맛집    간이음식         광화문역   \n",
       "67          67        싸리집   서울 종로구 진흥로 463-0   맛집      한식         보라매역   \n",
       "\n",
       "          LAT         LON  \n",
       "0   37.584610  126.981925  \n",
       "1   37.577603  126.971632  \n",
       "2   37.585954  126.964278  \n",
       "3   37.579170  126.986203  \n",
       "4   37.572733  126.960931  \n",
       "..        ...         ...  \n",
       "63  37.574724  126.979022  \n",
       "64  37.583295  127.003057  \n",
       "65  37.568432  126.989091  \n",
       "66  37.573054  127.016590  \n",
       "67  37.606855  126.960065  \n",
       "\n",
       "[68 rows x 8 columns]"
      ]
     },
     "execution_count": 206,
     "metadata": {},
     "output_type": "execute_result"
    }
   ],
   "source": [
    "gu = ['강남구','강동구', '강북구', '강서구', '관악구', '광진구', '구로구', '금천구', '노원구', '도봉구', '동대문구', '동작구', '마포구', '서대문구', '서초구', '성동구', '성북구','은평구' ,'송파구']\n",
    "df = pd.read_csv('./종로구_맛집_좌표.csv', encoding='CP949')\n",
    "# df.drop(['Unnamed: 0'],axis=1,inplace=True)\n",
    "df"
   ]
  },
  {
   "cell_type": "code",
   "execution_count": 189,
   "id": "dc98805b",
   "metadata": {},
   "outputs": [],
   "source": [
    "d = ['Unnamed: 0.1','Unnamed: 0']\n",
    "for i in d:\n",
    "    df.drop(i,axis=1,inplace=True)"
   ]
  },
  {
   "cell_type": "code",
   "execution_count": 191,
   "id": "fd6405a3",
   "metadata": {},
   "outputs": [],
   "source": [
    "df\n",
    "df.to_csv('./노원구_맛집_좌표.csv', encoding='CP949')"
   ]
  },
  {
   "cell_type": "markdown",
   "id": "025f47bd",
   "metadata": {},
   "source": [
    "### concat"
   ]
  },
  {
   "cell_type": "code",
   "execution_count": 37,
   "id": "9a95d402",
   "metadata": {},
   "outputs": [],
   "source": [
    "df1 = pd.read_csv('./강남구_맛집_좌표.csv', encoding='cp949')\n",
    "df2 = pd.read_csv('./강동구_맛집_좌표.csv', encoding='cp949')\n",
    "df3 = pd.read_csv('./강서구_맛집_좌표.csv', encoding='cp949')\n",
    "df4 = pd.read_csv('./강북구_맛집_좌표.csv', encoding='cp949')\n",
    "df5 = pd.read_csv('./관악구_맛집_좌표.csv', encoding='cp949')\n",
    "df6 = pd.read_csv('./광진구_맛집_좌표.csv', encoding='cp949')\n",
    "df7 = pd.read_csv('./구로구_맛집_좌표.csv', encoding='cp949')\n",
    "df8 = pd.read_csv('./금천구_맛집_좌표.csv', encoding='cp949')\n",
    "df9 = pd.read_csv('./노원구_맛집_좌표.csv', encoding='cp949')\n",
    "df10 = pd.read_csv('./동대문구_맛집_좌표.csv', encoding='cp949')\n",
    "df11 = pd.read_csv('./도봉구_맛집_좌표.csv', encoding='cp949')\n",
    "df12 = pd.read_csv('./동작구_맛집_좌표.csv', encoding='cp949')\n",
    "df13 = pd.read_csv('./마포구_맛집_좌표.csv', encoding='cp949')\n",
    "df14 = pd.read_csv('./서대문구_맛집_좌표.csv', encoding='cp949')\n",
    "df15 = pd.read_csv('./성동구_맛집_좌표.csv', encoding='cp949')\n",
    "df16 = pd.read_csv('./성북구_맛집_좌표.csv', encoding='cp949')\n",
    "df17 = pd.read_csv('./서초구_맛집_좌표.csv', encoding='cp949')\n",
    "df18 = pd.read_csv('./송파구_맛집_좌표.csv', encoding='cp949')\n",
    "df19 = pd.read_csv('./영등포구_맛집_좌표.csv', encoding='cp949')\n",
    "df20 = pd.read_csv('./용산구_맛집_좌표.csv', encoding='cp949')\n",
    "df21 = pd.read_csv('./양천구_맛집_좌표.csv', encoding='cp949')\n",
    "df22 = pd.read_csv('./은평구_맛집_좌표.csv', encoding='cp949')\n",
    "df23 = pd.read_csv('./종로구_맛집_좌표.csv', encoding='cp949')\n",
    "df24 = pd.read_csv('./중구_맛집_좌표.csv', encoding='cp949')\n",
    "df25 = pd.read_csv('./중랑구_맛집_좌표.csv', encoding='cp949')"
   ]
  },
  {
   "cell_type": "code",
   "execution_count": 55,
   "id": "1908d9fb",
   "metadata": {},
   "outputs": [],
   "source": [
    "d_list = [df1,df2,df3,df4,df5,df6,df7,df8,df9,df10,df11,df12,df13,df14,df15,df16,df17,df18,df19,df20,df21,df22,df23,df24,df25]"
   ]
  },
  {
   "cell_type": "code",
   "execution_count": 57,
   "id": "a9c27f49",
   "metadata": {},
   "outputs": [],
   "source": [
    "c_df = pd.concat(d_list)"
   ]
  },
  {
   "cell_type": "code",
   "execution_count": 63,
   "id": "1ab5de74",
   "metadata": {},
   "outputs": [],
   "source": [
    "fin_df = c_df[['NAME','ADDRESS','CATE','SUBCATE','STATION_NAME','LAT','LON']]\n",
    "fin_df.to_csv('./서울시맛집.csv',encoding='cp949')"
   ]
  },
  {
   "cell_type": "code",
   "execution_count": null,
   "id": "bbb91675",
   "metadata": {},
   "outputs": [],
   "source": []
  },
  {
   "cell_type": "code",
   "execution_count": null,
   "id": "7f1720ea",
   "metadata": {},
   "outputs": [],
   "source": []
  },
  {
   "cell_type": "code",
   "execution_count": null,
   "id": "0f77e6c2",
   "metadata": {},
   "outputs": [],
   "source": []
  }
 ],
 "metadata": {
  "kernelspec": {
   "display_name": "Python 3 (ipykernel)",
   "language": "python",
   "name": "python3"
  },
  "language_info": {
   "codemirror_mode": {
    "name": "ipython",
    "version": 3
   },
   "file_extension": ".py",
   "mimetype": "text/x-python",
   "name": "python",
   "nbconvert_exporter": "python",
   "pygments_lexer": "ipython3",
   "version": "3.9.7"
  }
 },
 "nbformat": 4,
 "nbformat_minor": 5
}
